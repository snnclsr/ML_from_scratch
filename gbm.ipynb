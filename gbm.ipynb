{
 "cells": [
  {
   "cell_type": "code",
   "execution_count": 1,
   "metadata": {},
   "outputs": [],
   "source": [
    "%load_ext autoreload\n",
    "%autoreload 2"
   ]
  },
  {
   "cell_type": "code",
   "execution_count": 2,
   "metadata": {},
   "outputs": [],
   "source": [
    "import numpy as np\n",
    "import pandas as pd\n",
    "\n",
    "from sklearn.datasets import load_iris\n",
    "\n",
    "import warnings\n",
    "warnings.simplefilter('ignore')"
   ]
  },
  {
   "cell_type": "code",
   "execution_count": 3,
   "metadata": {},
   "outputs": [],
   "source": [
    "def entropy(split_feature):\n",
    "    _, counts = np.unique(split_feature, return_counts=True)\n",
    "    prob = counts / split_feature.shape[0]\n",
    "    return -np.sum(prob * np.log2(prob))\n",
    "\n",
    "def gini(split_feature):\n",
    "    _, counts = np.unique(split_feature, return_counts=True)\n",
    "    prob = counts / split_feature.shape[0]\n",
    "    return 1 - np.sum(prob ** 2)\n",
    "\n",
    "def var(split_feature):\n",
    "    return np.var(split_feature)\n",
    "\n",
    "split_criterions = {'entropy': entropy, 'gini': gini, 'var': var}"
   ]
  },
  {
   "cell_type": "code",
   "execution_count": 4,
   "metadata": {},
   "outputs": [],
   "source": [
    "class DecisionTree:\n",
    "    \n",
    "    def __init__(self, criterion, depth=0, min_samples_split=2, max_depth=5):\n",
    "        \n",
    "        self.criterion = criterion\n",
    "        self.criterion_fn = split_criterions[criterion]\n",
    "        self.min_samples_split = min_samples_split\n",
    "        self.max_depth = max_depth\n",
    "        self.depth = depth\n",
    "        self.score = np.inf\n",
    "    \n",
    "    def fit(self, X, y):\n",
    "        \n",
    "        n_samples, n_features = X.shape\n",
    "        \n",
    "        if len(y.shape) == 1:\n",
    "            y = np.expand_dims(y, axis=1)\n",
    "        \n",
    "        if self.depth == self.max_depth or n_samples < self.min_samples_split:\n",
    "            # Most common label.\n",
    "            self.prediction = np.mean(y)\n",
    "            self.is_leaf = True\n",
    "            return self\n",
    "        \n",
    "        self.find_best_split(X, y)\n",
    "        \n",
    "        mask = X[:, self.best_feature_split] < self.best_split_value\n",
    "        n_left = np.sum(mask)\n",
    "        n_right = n_samples - n_left\n",
    "        \n",
    "        if n_left < self.min_samples_split or n_right < self.min_samples_split:\n",
    "            self.is_leaf = True\n",
    "            self.prediction = np.mean(y)\n",
    "            return self\n",
    "        \n",
    "        self.is_leaf = False\n",
    "        self.create_trees(X, y, mask)\n",
    "\n",
    "    def find_best_split(self, X, y):\n",
    "        \n",
    "        n_samples, n_features = X.shape\n",
    "        best_feature_split, best_split_score = 0, np.inf\n",
    "        \n",
    "        for feature in range(n_features):\n",
    "            values = X[:, feature]\n",
    "            sorted_indices = np.argsort(values)\n",
    "            sorted_values = values[sorted_indices]\n",
    "            sorted_labels = y[sorted_indices]\n",
    "            _, uniq_indices = np.unique(sorted_values, return_index=True)\n",
    "            for idx in uniq_indices:\n",
    "                left_y, right_y = sorted_labels[:idx], sorted_labels[idx:]\n",
    "                left_split_val = self.criterion_fn(left_y)\n",
    "                right_split_val = self.criterion_fn(right_y)\n",
    "                current_idx_split_val = idx / n_samples * left_split_val + \\\n",
    "                                            (1 - idx / n_samples) * right_split_val \n",
    "                \n",
    "                if current_idx_split_val < best_split_score:\n",
    "                    best_feature_split = feature\n",
    "                    best_split_value = sorted_values[idx]\n",
    "                    best_split_score = current_idx_split_val\n",
    "        \n",
    "        self.best_feature_split = best_feature_split\n",
    "        self.best_split_value = best_split_value\n",
    "        self.score = best_split_score\n",
    "    \n",
    "    def create_trees(self, X, y, mask):\n",
    "        left_X, left_y = X[mask, :], y[mask]\n",
    "        right_X, right_y = X[~mask, :], y[~mask]\n",
    "        \n",
    "        self.left = DecisionTree(self.criterion, depth=self.depth+1, \n",
    "                                 min_samples_split=self.min_samples_split, \n",
    "                                 max_depth=self.max_depth)\n",
    "        self.right = DecisionTree(self.criterion, depth=self.depth+1, \n",
    "                                  min_samples_split=self.min_samples_split,\n",
    "                                  max_depth=self.max_depth)\n",
    "        \n",
    "        self.left.fit(left_X, left_y)\n",
    "        self.right.fit(right_X, right_y)\n",
    "\n",
    "    def predict_sample(self, sample):\n",
    "        \n",
    "        if self.is_leaf:\n",
    "            return self.prediction\n",
    "        elif sample[self.best_feature_split] < self.best_split_value:\n",
    "            return self.left.predict_sample(sample)\n",
    "        else:\n",
    "            return self.right.predict_sample(sample)\n",
    "        \n",
    "    def predict(self, X):\n",
    "        return np.array([self.predict_sample(sample) for sample in X])\n",
    "\n",
    "class DecisionTreeClassifier:\n",
    "    \n",
    "    def __init__(self, criterion='entropy', min_samples_split=2, max_depth=5):\n",
    "        \n",
    "        self.d_tree = DecisionTree(criterion=criterion, \n",
    "                                   min_samples_split=min_samples_split, \n",
    "                                   max_depth=max_depth)\n",
    "    def fit(self, X, y):\n",
    "        self.d_tree.fit(X, y)\n",
    "    \n",
    "    def predict(self, X):\n",
    "        preds = self.d_tree.predict(X)\n",
    "        return np.round(preds)\n",
    "    \n",
    "class DecisionTreeRegressor:\n",
    "    \n",
    "    def __init__(self, criterion='var', min_samples_split=2, max_depth=5):\n",
    "        self.d_tree = DecisionTree(criterion=criterion, \n",
    "                                   min_samples_split=min_samples_split, \n",
    "                                   max_depth=max_depth)\n",
    "    def fit(self, X, y):\n",
    "        self.d_tree.fit(X, y)\n",
    "    \n",
    "    def predict(self, X):\n",
    "        return self.d_tree.predict(X)"
   ]
  },
  {
   "cell_type": "code",
   "execution_count": 5,
   "metadata": {},
   "outputs": [],
   "source": [
    "def grad_mse(y, preds):\n",
    "    m = len(y)\n",
    "    return (1 / m) * (y - preds)\n",
    "    \n",
    "def grad_cross_entropy(y, preds):\n",
    "    m = len(y)\n",
    "    \n",
    "    preds = np.clip(preds, 1e-15, 1 - 1e-15)\n",
    "    return - (y / preds) + (1 - y) / (1 - preds)\n",
    "    \n",
    "    # return (1 / m) * y * np.log(preds) + (1 - y) * np.log(preds)\n",
    "\n",
    "loss_functions = {'mse': grad_mse, 'cross_entropy': grad_cross_entropy}"
   ]
  },
  {
   "cell_type": "code",
   "execution_count": 6,
   "metadata": {},
   "outputs": [],
   "source": [
    "class GradientBoostingBase:\n",
    "            \n",
    "    def __init__(self, loss='mse', \n",
    "                 learning_rate=0.1, \n",
    "                 n_estimators=100, \n",
    "                 min_samples_split=2, \n",
    "                 max_depth=5):\n",
    "        \n",
    "        self.loss_fn = loss_functions[loss]\n",
    "        self.learning_rate = learning_rate\n",
    "        self.n_estimators = n_estimators\n",
    "        self.min_samples_split = min_samples_split\n",
    "        self.max_depth = max_depth\n",
    "        \n",
    "        self.trees = [DecisionTreeRegressor(min_samples_split=self.min_samples_split, \n",
    "                                            max_depth=self.max_depth) for _ in range(self.n_estimators)]\n",
    "    \n",
    "    def fit(self, X, y):\n",
    "\n",
    "        self.base_preds = np.full(shape=y.shape, fill_value=np.mean(y, axis=0))\n",
    "        preds = np.full(shape=y.shape, fill_value=np.mean(y))\n",
    "        \n",
    "        for tree in self.trees:\n",
    "            grads = self.loss_fn(y, preds)\n",
    "            tree.fit(X, grads)\n",
    "            new_preds = tree.predict(X)\n",
    "            update = self.learning_rate * new_preds\n",
    "            preds = preds + update\n",
    "        \n",
    "    def predict(self, X):\n",
    "\n",
    "        preds = self.base_preds\n",
    "        for i, tree in enumerate(self.trees):\n",
    "            preds = preds + (self.learning_rate * tree.predict(X))\n",
    "            \n",
    "        return preds\n",
    "    \n",
    "    \n",
    "class GradientBoostingRegressor(GradientBoostingBase):\n",
    "    \n",
    "    def __init__(self, loss='mse', learning_rate=0.1, \n",
    "                 n_estimators=100, min_samples_split=2, \n",
    "                 max_depth=5):\n",
    "        super(GradientBoostingRegressor, self).__init__(loss=loss, learning_rate=learning_rate, \n",
    "                                                        n_estimators=n_estimators, \n",
    "                                                        min_samples_split=min_samples_split, \n",
    "                                                        max_depth=max_depth)\n",
    "                                    \n",
    "class GradientBoostingClassifier(GradientBoostingBase):\n",
    "    \n",
    "    def __init__(self, loss='cross_entropy', learning_rate=0.1, \n",
    "                 n_estimators=100, min_samples_split=2, \n",
    "                 max_depth=5):\n",
    "        super(GradientBoostingClassifier, self).__init__(loss=loss, learning_rate=learning_rate, \n",
    "                                                        n_estimators=n_estimators, \n",
    "                                                        min_samples_split=min_samples_split, \n",
    "                                                        max_depth=max_depth)\n",
    "    \n",
    "    def predict(self, X):\n",
    "\n",
    "        preds = super(GradientBoostingClassifier, self).predict(X)\n",
    "        exp = np.exp(preds - np.max(preds))\n",
    "        preds = exp / np.sum(exp)\n",
    "        return preds "
   ]
  },
  {
   "cell_type": "code",
   "execution_count": 7,
   "metadata": {},
   "outputs": [],
   "source": [
    "filename = \"data/ex1data1.txt\"\n",
    "data = np.loadtxt(filename, delimiter=',', usecols=(0, 1), unpack=True)\n",
    "\n",
    "X = np.transpose(np.array(data[:-1]))\n",
    "y = np.transpose(np.array(data[-1:]))"
   ]
  },
  {
   "cell_type": "code",
   "execution_count": 8,
   "metadata": {},
   "outputs": [
    {
     "name": "stdout",
     "output_type": "stream",
     "text": [
      "MSE:  30.050188166679476\n"
     ]
    }
   ],
   "source": [
    "gbr = GradientBoostingRegressor(n_estimators=3)\n",
    "\n",
    "gbr.fit(X, y)\n",
    "preds = gbr.predict(X)\n",
    "print(\"MSE: \", np.mean((preds - y) ** 2))"
   ]
  },
  {
   "cell_type": "code",
   "execution_count": 9,
   "metadata": {},
   "outputs": [
    {
     "name": "stdout",
     "output_type": "stream",
     "text": [
      "MSE:  31.689843076524905\n"
     ]
    }
   ],
   "source": [
    "# Sklearn way\n",
    "from sklearn.ensemble import GradientBoostingRegressor\n",
    "\n",
    "gbr = GradientBoostingRegressor(n_estimators=3)\n",
    "gbr.fit(X, y)\n",
    "preds = gbr.predict(X)\n",
    "print(\"MSE: \", np.mean((preds - y) ** 2))"
   ]
  },
  {
   "cell_type": "code",
   "execution_count": 10,
   "metadata": {},
   "outputs": [],
   "source": [
    "# Load iris data.\n",
    "data = load_iris()\n",
    "dataset = {feature: data.data[:, i] for i, feature in enumerate(data.feature_names)}\n",
    "dataset.update({'target': data.target})\n",
    "\n",
    "df = pd.DataFrame(dataset)\n",
    "X, y = df.iloc[:, :-1], df.iloc[:, -1]"
   ]
  },
  {
   "cell_type": "code",
   "execution_count": 11,
   "metadata": {},
   "outputs": [
    {
     "name": "stdout",
     "output_type": "stream",
     "text": [
      "0.3333333333333333\n"
     ]
    }
   ],
   "source": [
    "# GBMClassifier doesn't work right now.\n",
    "\n",
    "gbc = GradientBoostingClassifier(n_estimators=3)\n",
    "gbc.fit(X.values, y.values)\n",
    "preds = gbc.predict(X.values)\n",
    "print((np.round(preds) == y).mean())"
   ]
  },
  {
   "cell_type": "code",
   "execution_count": 12,
   "metadata": {},
   "outputs": [
    {
     "name": "stdout",
     "output_type": "stream",
     "text": [
      "0.9866666666666667\n"
     ]
    }
   ],
   "source": [
    "# Sklearn way\n",
    "\n",
    "from sklearn.ensemble import GradientBoostingClassifier\n",
    "\n",
    "gbc = GradientBoostingClassifier(n_estimators=3, min_samples_split=5, max_depth=5, )\n",
    "gbc.fit(X, y)\n",
    "preds = gbc.predict(X)\n",
    "print((preds == y).mean())"
   ]
  }
 ],
 "metadata": {
  "kernelspec": {
   "display_name": "Python 3",
   "language": "python",
   "name": "python3"
  },
  "language_info": {
   "codemirror_mode": {
    "name": "ipython",
    "version": 3
   },
   "file_extension": ".py",
   "mimetype": "text/x-python",
   "name": "python",
   "nbconvert_exporter": "python",
   "pygments_lexer": "ipython3",
   "version": "3.6.7"
  }
 },
 "nbformat": 4,
 "nbformat_minor": 2
}
