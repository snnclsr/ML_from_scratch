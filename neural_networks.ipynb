{
 "cells": [
  {
   "cell_type": "code",
   "execution_count": 1,
   "metadata": {},
   "outputs": [],
   "source": [
    "%load_ext autoreload\n",
    "%autoreload 2\n",
    "\n",
    "import sys\n",
    "sys.path.append('neural_nets')"
   ]
  },
  {
   "cell_type": "code",
   "execution_count": 2,
   "metadata": {},
   "outputs": [
    {
     "name": "stderr",
     "output_type": "stream",
     "text": [
      "Using TensorFlow backend.\n"
     ]
    }
   ],
   "source": [
    "import numpy as np\n",
    "import matplotlib.pyplot as plt\n",
    "\n",
    "from nn import NeuralNet\n",
    "from layers import Dense, Dropout, BatchNormalization\n",
    "from optimizers import SGD, RMSProp, Adam\n",
    "from losses import Softmax\n",
    "from activations import ReLU\n",
    "\n",
    "# For mnist data\n",
    "from keras.datasets import mnist"
   ]
  },
  {
   "cell_type": "code",
   "execution_count": 3,
   "metadata": {},
   "outputs": [
    {
     "name": "stdout",
     "output_type": "stream",
     "text": [
      "X_train shape:  (60000, 784)\n",
      "X_test shape:  (10000, 784)\n"
     ]
    }
   ],
   "source": [
    "(X_train, y_train), (X_test, y_test) = mnist.load_data()\n",
    "\n",
    "X_train = X_train.reshape(60000, 784)\n",
    "X_test = X_test.reshape(10000, 784)\n",
    "\n",
    "X_train = X_train.astype('float32')\n",
    "X_test = X_test.astype('float32')\n",
    "\n",
    "X_train /= 255\n",
    "X_test /= 255\n",
    "\n",
    "print(\"X_train shape: \", X_train.shape)\n",
    "print(\"X_test shape: \", X_test.shape)"
   ]
  },
  {
   "cell_type": "code",
   "execution_count": 4,
   "metadata": {},
   "outputs": [],
   "source": [
    "m, n = X_train.shape\n",
    "lr = 0.01\n",
    "num_iter = 10\n",
    "print_verbose = 1\n",
    "\n",
    "loss = Softmax()\n",
    "optimizer = SGD(lr)\n",
    "# optimizer = Adam()\n",
    "\n",
    "model = NeuralNet(loss, optimizer)\n",
    "model.add(Dense(n, 16))\n",
    "model.add(ReLU())\n",
    "model.add(Dense(16, 16))\n",
    "model.add(ReLU())\n",
    "model.add(Dense(16, 10))"
   ]
  },
  {
   "cell_type": "code",
   "execution_count": 5,
   "metadata": {},
   "outputs": [
    {
     "name": "stdout",
     "output_type": "stream",
     "text": [
      "Iteration : 0, Loss : 0.9026503072562031\n",
      "Iteration : 1, Loss : 0.3581277838231262\n",
      "Iteration : 2, Loss : 0.3016084642100701\n",
      "Iteration : 3, Loss : 0.2720369459193424\n",
      "Iteration : 4, Loss : 0.25075025615004704\n",
      "Iteration : 5, Loss : 0.23364677093050748\n",
      "Iteration : 6, Loss : 0.21946630855431706\n",
      "Iteration : 7, Loss : 0.2073318363997292\n",
      "Iteration : 8, Loss : 0.19706044949667703\n",
      "Iteration : 9, Loss : 0.18834702631755051\n"
     ]
    },
    {
     "data": {
      "image/png": "[encoded data removed]",
      "text/plain": [
       "<Figure size 432x288 with 1 Axes>"
      ]
     },
     "metadata": {},
     "output_type": "display_data"
    }
   ],
   "source": [
    "losses = model.train(X_train, y_train, n_iter=num_iter, print_verbose=print_verbose)\n",
    "plt.plot(range(num_iter), losses);"
   ]
  },
  {
   "cell_type": "code",
   "execution_count": 6,
   "metadata": {},
   "outputs": [
    {
     "data": {
      "text/plain": [
       "0.9419"
      ]
     },
     "execution_count": 6,
     "metadata": {},
     "output_type": "execute_result"
    }
   ],
   "source": [
    "preds = model.predict(X_test)\n",
    "(preds == y_test).mean()"
   ]
  },
  {
   "cell_type": "code",
   "execution_count": 7,
   "metadata": {},
   "outputs": [
    {
     "name": "stdout",
     "output_type": "stream",
     "text": [
      "Epoch 1/10\n",
      "60000/60000 [==============================] - 7s 123us/step - loss: 0.8454 - acc: 0.7436\n",
      "Epoch 2/10\n",
      "60000/60000 [==============================] - 6s 99us/step - loss: 0.3761 - acc: 0.8910\n",
      "Epoch 3/10\n",
      "60000/60000 [==============================] - 6s 93us/step - loss: 0.3188 - acc: 0.9077\n",
      "Epoch 4/10\n",
      "60000/60000 [==============================] - 5s 90us/step - loss: 0.2879 - acc: 0.9172\n",
      "Epoch 5/10\n",
      "60000/60000 [==============================] - 6s 94us/step - loss: 0.2651 - acc: 0.9235\n",
      "Epoch 6/10\n",
      "60000/60000 [==============================] - 5s 77us/step - loss: 0.2481 - acc: 0.9275\n",
      "Epoch 7/10\n",
      "60000/60000 [==============================] - 6s 95us/step - loss: 0.2344 - acc: 0.9317\n",
      "Epoch 8/10\n",
      "60000/60000 [==============================] - 6s 95us/step - loss: 0.2230 - acc: 0.9359\n",
      "Epoch 9/10\n",
      "60000/60000 [==============================] - 6s 95us/step - loss: 0.2138 - acc: 0.9386\n",
      "Epoch 10/10\n",
      "60000/60000 [==============================] - 6s 93us/step - loss: 0.2056 - acc: 0.9403\n",
      "10000/10000 [==============================] - 1s 52us/step\n",
      "Test score :  0.2035056541085243\n",
      "Test accuracy :  0.9393\n"
     ]
    }
   ],
   "source": [
    "# Keras way\n",
    "from keras.models import Sequential\n",
    "from keras.layers import Dense, Dropout\n",
    "from keras.optimizers import SGD\n",
    "from keras.utils import to_categorical\n",
    "\n",
    "y_train = to_categorical(y_train)\n",
    "y_test = to_categorical(y_test)\n",
    "\n",
    "model = Sequential()\n",
    "model.add(Dense(16, activation='relu', input_shape=(784, )))\n",
    "model.add(Dense(16, activation='relu'))\n",
    "model.add(Dense(10, activation='softmax'))\n",
    "\n",
    "sgd = SGD(lr=0.01)\n",
    "model.compile(loss='categorical_crossentropy', optimizer=sgd, metrics=['accuracy'])\n",
    "\n",
    "history = model.fit(X_train, y_train, epochs=10, batch_size=32)\n",
    "\n",
    "score = model.evaluate(X_test, y_test)\n",
    "\n",
    "print(\"Test score : \", score[0])\n",
    "print(\"Test accuracy : \", score[1])"
   ]
  },
  {
   "cell_type": "code",
   "execution_count": 8,
   "metadata": {},
   "outputs": [
    {
     "data": {
      "text/plain": [
       "[<matplotlib.lines.Line2D at 0x7fcd98247630>]"
      ]
     },
     "execution_count": 8,
     "metadata": {},
     "output_type": "execute_result"
    },
    {
     "data": {
      "image/png": "[encoded data removed]",
      "text/plain": [
       "<Figure size 432x288 with 1 Axes>"
      ]
     },
     "metadata": {},
     "output_type": "display_data"
    }
   ],
   "source": [
    "plt.plot(history.history['loss'])"
   ]
  }
 ],
 "metadata": {
  "kernelspec": {
   "display_name": "Python 3",
   "language": "python",
   "name": "python3"
  },
  "language_info": {
   "codemirror_mode": {
    "name": "ipython",
    "version": 3
   },
   "file_extension": ".py",
   "mimetype": "text/x-python",
   "name": "python",
   "nbconvert_exporter": "python",
   "pygments_lexer": "ipython3",
   "version": "3.6.7"
  }
 },
 "nbformat": 4,
 "nbformat_minor": 2
}
