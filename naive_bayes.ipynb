{
 "cells": [
  {
   "cell_type": "code",
   "execution_count": 1,
   "metadata": {},
   "outputs": [],
   "source": [
    "import re\n",
    "\n",
    "import numpy as np\n",
    "import pandas as pd\n",
    "from sklearn.model_selection import train_test_split\n",
    "from collections import Counter, defaultdict\n",
    "\n",
    "seed = 42\n",
    "np.random.seed(seed)"
   ]
  },
  {
   "cell_type": "code",
   "execution_count": 2,
   "metadata": {},
   "outputs": [],
   "source": [
    "df = pd.read_csv('data/spam.csv', encoding='ISO-8859-1')\n",
    "\n",
    "df.drop(['Unnamed: 2', 'Unnamed: 3', 'Unnamed: 4'], axis=1, inplace=True)\n",
    "df['v1'] = df.v1.map({'ham':0, 'spam': 1})\n",
    "\n",
    "clean = lambda text: re.sub(\"[^a-zA-Z0-9\\s]+\", \" \", text)\n",
    "df['v2'] = df['v2'].apply(clean)\n",
    "df['v2'] = df['v2'].apply(str.lower)"
   ]
  },
  {
   "cell_type": "code",
   "execution_count": 3,
   "metadata": {},
   "outputs": [],
   "source": [
    "y = df['v1'].values\n",
    "X = df['v2'].values\n",
    "\n",
    "X_train, X_test, y_train, y_test = train_test_split(X, y, test_size=0.2, random_state=seed)"
   ]
  },
  {
   "cell_type": "markdown",
   "metadata": {},
   "source": [
    "$$\\prod_{i=1}^n P(w_i | class) * P(class)$$\n",
    "\n",
    "$$\\log{P(class)} +  \\sum_{i=1}^n \\log P(w_i | class)$$"
   ]
  },
  {
   "cell_type": "code",
   "execution_count": 4,
   "metadata": {},
   "outputs": [],
   "source": [
    "# For text classification:\n",
    "\n",
    "# P(class | w_1, ..., w_n) = (P(w_1, ..., w_n | class) * P(class)) / P(w_1, ..., w_n)\n",
    "# \\prod_{i=1}^n P(w_i | class) * P(class) / P(w_1, ..., w_n)\n",
    "# \\log{P(class)} +  \\sum_{i=1}^n \\log P(w_i | class)\n",
    "\n",
    "# We also apply laplace smoothing to prevent to take log of 0.\n",
    "\n",
    "class MultinomialNB:\n",
    "    \n",
    "    def __init__(self):\n",
    "        pass\n",
    "    \n",
    "    def fit(self, X, y):\n",
    "        self.classes = np.unique(y)\n",
    "        self.class_probs = self.class_probabilities(X, y)\n",
    "        grouped_data = self.group_data_by_class(X, y)\n",
    "        self.vocabs = self.get_vocabs(grouped_data)\n",
    "        self.total_vocab_len = sum([len(self.vocabs[c]) for c, _ in self.vocabs.items()])\n",
    "        \n",
    "    def predict(self, X):\n",
    "        preds = []\n",
    "        for sentence in X:\n",
    "            probs = []\n",
    "            for c in self.classes:\n",
    "                # Current sentence probability is: \n",
    "                # logP(class) + and sum(logP(w_1, ..., w_n | class))\n",
    "                log_class_prob = np.log(self.class_probs[c]) \n",
    "                log_word_probs = sum([np.log(self.laplace_smoothed_prob(c, word)) \n",
    "                                     for word in sentence.split()])\n",
    "                sentence_prob = log_class_prob + log_word_probs\n",
    "                probs.append(sentence_prob)\n",
    "                \n",
    "            preds.append(np.argmax(probs))\n",
    "        \n",
    "        return preds\n",
    "    \n",
    "    def class_probabilities(self, X, y):\n",
    "        return { c: (y == c).sum() / len(y) for c in self.classes }\n",
    "    \n",
    "    def group_data_by_class(self, X, y):\n",
    "        return { c: X[np.where(y == c)] for c in self.classes }\n",
    "    \n",
    "    def laplace_smoothed_prob(self, c, word):\n",
    "        return (self.vocabs[c][word] + 1) / (len(self.vocabs[c]) + self.total_vocab_len)\n",
    "    \n",
    "    def get_vocabs(self, grouped_data):\n",
    "        vocabs = { c: defaultdict(lambda : 0) for c, _ in grouped_data.items()}\n",
    "        \n",
    "        for c, data in grouped_data.items():\n",
    "            for sentence in data:\n",
    "                word_counts = Counter(sentence.split())\n",
    "                for word, count in word_counts.items():\n",
    "                    vocabs[c][word] += count\n",
    "        return vocabs"
   ]
  },
  {
   "cell_type": "code",
   "execution_count": 5,
   "metadata": {},
   "outputs": [
    {
     "name": "stdout",
     "output_type": "stream",
     "text": [
      "Accuracy:  0.9623318385650225\n"
     ]
    }
   ],
   "source": [
    "mnb = MultinomialNB()\n",
    "\n",
    "mnb.fit(X_train, y_train)\n",
    "preds = mnb.predict(X_test)\n",
    "print(\"Accuracy: \", (preds == y_test).mean())"
   ]
  },
  {
   "cell_type": "code",
   "execution_count": 6,
   "metadata": {},
   "outputs": [
    {
     "name": "stdout",
     "output_type": "stream",
     "text": [
      "Accuracy:  0.9838565022421525\n"
     ]
    }
   ],
   "source": [
    "# Sklearn way\n",
    "from sklearn.naive_bayes import MultinomialNB\n",
    "from sklearn.feature_extraction.text import CountVectorizer\n",
    "\n",
    "vectorizer = CountVectorizer().fit(X_train)\n",
    "X_train_tr = vectorizer.transform(X_train)\n",
    "X_test_tr = vectorizer.transform(X_test)\n",
    "\n",
    "mnb = MultinomialNB()\n",
    "mnb.fit(X_train_tr, y_train)\n",
    "\n",
    "preds = mnb.predict(X_test_tr)\n",
    "print(\"Accuracy: \", (preds == y_test).mean())"
   ]
  }
 ],
 "metadata": {
  "kernelspec": {
   "display_name": "Python 3",
   "language": "python",
   "name": "python3"
  },
  "language_info": {
   "codemirror_mode": {
    "name": "ipython",
    "version": 3
   },
   "file_extension": ".py",
   "mimetype": "text/x-python",
   "name": "python",
   "nbconvert_exporter": "python",
   "pygments_lexer": "ipython3",
   "version": "3.6.7"
  }
 },
 "nbformat": 4,
 "nbformat_minor": 2
}
