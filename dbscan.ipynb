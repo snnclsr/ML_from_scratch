{
 "cells": [
  {
   "cell_type": "code",
   "execution_count": 1,
   "metadata": {},
   "outputs": [],
   "source": [
    "import numpy as np\n",
    "import matplotlib.pyplot as plt\n",
    "from sklearn import datasets"
   ]
  },
  {
   "cell_type": "code",
   "execution_count": 2,
   "metadata": {},
   "outputs": [],
   "source": [
    "np.random.seed(42)\n",
    "\n",
    "n_samples = 500\n",
    "noisy_circles = datasets.make_circles(n_samples=n_samples, factor=.5,\n",
    "                                      noise=.05)\n",
    "noisy_moons = datasets.make_moons(n_samples=n_samples, noise=.05)\n",
    "blobs = datasets.make_blobs(n_samples=n_samples, random_state=42)\n",
    "datasets = [noisy_circles, noisy_moons, blobs]"
   ]
  },
  {
   "cell_type": "code",
   "execution_count": 12,
   "metadata": {},
   "outputs": [],
   "source": [
    "def plot_datasets(datasets):\n",
    "    \n",
    "    plt.figure(figsize=(16, 10))\n",
    "\n",
    "    plot_num = 1\n",
    "    for i, dataset in enumerate(datasets):\n",
    "        X, y = dataset\n",
    "        plt.subplot(len(dataset), len(datasets), i+1)\n",
    "        plt.scatter(X[:, 0], X[:, 1], c=y)"
   ]
  },
  {
   "cell_type": "code",
   "execution_count": null,
   "metadata": {},
   "outputs": [],
   "source": [
    "plot_datasets(datasets)"
   ]
  },
  {
   "cell_type": "code",
   "execution_count": 5,
   "metadata": {},
   "outputs": [],
   "source": [
    "# Wikipedia has a clear pseudocode explanation for the algorithm.\n",
    "# https://en.wikipedia.org/wiki/DBSCAN\n",
    "\n",
    "class DBSCAN:\n",
    "    \n",
    "    def __init__(self, eps=0.5, min_samples=5):\n",
    "        \n",
    "        self.eps = eps\n",
    "        self.min_samples = min_samples\n",
    "        \n",
    "    \n",
    "    def fit(self, X):\n",
    "        C = 0\n",
    "        n_points = len(X)\n",
    "        self.labels_ = np.zeros(n_points)\n",
    "        \n",
    "        for idx in range(n_points):\n",
    "\n",
    "            if self.labels_[idx] != 0:\n",
    "                continue\n",
    "            \n",
    "            neighbours = self.range_query(X, idx)\n",
    "            if len(neighbours) < self.min_samples:\n",
    "                self.labels_[idx] = -1\n",
    "                continue\n",
    "            \n",
    "            C += 1\n",
    "            self.labels_[idx] = C\n",
    "            \n",
    "            i = 0\n",
    "            while i < len(neighbours):\n",
    "                \n",
    "                neighbour_idx = int(neighbours[i])\n",
    "                \n",
    "                if self.labels_[neighbour_idx] == -1:\n",
    "                    self.labels_[neighbour_idx] = C\n",
    "                \n",
    "                elif self.labels_[neighbour_idx] == 0:                    \n",
    "                    self.labels_[neighbour_idx] = C\n",
    "                    new_neighbours = self.range_query(X, neighbour_idx)\n",
    "                    \n",
    "                    if len(new_neighbours) >= self.min_samples:\n",
    "                        neighbours = np.append(neighbours, new_neighbours)\n",
    "                \n",
    "                i += 1\n",
    "                \n",
    "    def range_query(self, X, idx):\n",
    "        \n",
    "        neighbours = np.where(np.linalg.norm(X[idx] - X, axis=1) < self.eps)[0]\n",
    "        return neighbours    "
   ]
  },
  {
   "cell_type": "code",
   "execution_count": 6,
   "metadata": {},
   "outputs": [],
   "source": [
    "new_datasets = []\n",
    "\n",
    "for dataset in datasets:\n",
    "    X, _ = dataset\n",
    "    db = DBSCAN(eps=0.1, min_samples=5)\n",
    "    db.fit(X)\n",
    "    labels = db.labels_\n",
    "    new_datasets.append((X, labels))"
   ]
  },
  {
   "cell_type": "code",
   "execution_count": 7,
   "metadata": {},
   "outputs": [
    {
     "data": {
      "image/png": "[encoded data removed]",
      "text/plain": [
       "<Figure size 1152x720 with 3 Axes>"
      ]
     },
     "metadata": {},
     "output_type": "display_data"
    }
   ],
   "source": [
    "plot_datasets(new_datasets)"
   ]
  },
  {
   "cell_type": "code",
   "execution_count": 8,
   "metadata": {},
   "outputs": [],
   "source": [
    "# Sklearn way\n",
    "from sklearn.cluster import DBSCAN\n",
    "\n",
    "new_datasets = []\n",
    "\n",
    "for dataset in datasets:\n",
    "    X, _ = dataset\n",
    "    db = DBSCAN(eps=0.1, min_samples=5)\n",
    "    db.fit(X)\n",
    "    labels = db.labels_\n",
    "    new_datasets.append((X, labels))"
   ]
  },
  {
   "cell_type": "code",
   "execution_count": 9,
   "metadata": {},
   "outputs": [
    {
     "data": {
      "image/png": "[encoded data removed]",
      "text/plain": [
       "<Figure size 1152x720 with 3 Axes>"
      ]
     },
     "metadata": {},
     "output_type": "display_data"
    }
   ],
   "source": [
    "plot_datasets(new_datasets)"
   ]
  }
 ],
 "metadata": {
  "kernelspec": {
   "display_name": "Python 3",
   "language": "python",
   "name": "python3"
  },
  "language_info": {
   "codemirror_mode": {
    "name": "ipython",
    "version": 3
   },
   "file_extension": ".py",
   "mimetype": "text/x-python",
   "name": "python",
   "nbconvert_exporter": "python",
   "pygments_lexer": "ipython3",
   "version": "3.6.7"
  }
 },
 "nbformat": 4,
 "nbformat_minor": 2
}
