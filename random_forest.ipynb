{
 "cells": [
  {
   "cell_type": "code",
   "execution_count": 1,
   "metadata": {},
   "outputs": [],
   "source": [
    "%load_ext autoreload\n",
    "%autoreload 2"
   ]
  },
  {
   "cell_type": "code",
   "execution_count": 2,
   "metadata": {},
   "outputs": [],
   "source": [
    "import numpy as np\n",
    "import pandas as pd\n",
    "\n",
    "from sklearn.datasets import load_iris\n",
    "\n",
    "from tree import DecisionTreeClassifier, DecisionTreeRegressor\n",
    "\n",
    "import warnings\n",
    "warnings.simplefilter('ignore')"
   ]
  },
  {
   "cell_type": "code",
   "execution_count": 3,
   "metadata": {},
   "outputs": [],
   "source": [
    "# Load iris data.\n",
    "data = load_iris()\n",
    "dataset = {feature: data.data[:, i] for i, feature in enumerate(data.feature_names)}\n",
    "dataset.update({'target': data.target})\n",
    "\n",
    "df = pd.DataFrame(dataset)\n",
    "X, y = df.iloc[:, :-1], df.iloc[:, -1]"
   ]
  },
  {
   "cell_type": "code",
   "execution_count": 4,
   "metadata": {},
   "outputs": [],
   "source": [
    "class RandomForestClassifier:\n",
    "    \n",
    "    def __init__(self, n_estimators=10, criterion='entropy', \n",
    "                 min_samples_split=2, max_depth=5):\n",
    "\n",
    "        self.estimators = [DecisionTreeClassifier(criterion=criterion, \n",
    "                                             min_samples_split=min_samples_split, \n",
    "                                             max_depth=max_depth) for _ in range(n_estimators)]\n",
    "    \n",
    "    def fit(self, X, y):\n",
    "        \n",
    "        self.sample_size = int(0.5 * len(y))\n",
    "        for estimator in self.estimators:\n",
    "            rand_samples = np.random.permutation(len(y))[:self.sample_size]\n",
    "            estimator.fit(X[rand_samples], y[rand_samples])\n",
    "    \n",
    "    def predict(self, X):\n",
    "        preds = np.array([estimator.predict(X) for estimator in self.estimators])\n",
    "        return np.round(np.mean(preds, axis=0))\n",
    "    \n",
    "class RandomForestRegressor:\n",
    "    \n",
    "    def __init__(self, n_estimators=10, criterion='var', \n",
    "                 min_samples_split=2, max_depth=5):\n",
    "        \n",
    "        self.estimators = [DecisionTreeRegressor(criterion=criterion, \n",
    "                                             min_samples_split=min_samples_split, \n",
    "                                             max_depth=max_depth) for _ in range(n_estimators)]\n",
    "    \n",
    "    def fit(self, X, y):\n",
    "                \n",
    "        self.sample_size = int(0.5 * len(y))\n",
    "        for estimator in self.estimators:\n",
    "            rand_samples = np.random.permutation(len(y))[:self.sample_size]\n",
    "            estimator.fit(X[rand_samples], y[rand_samples])\n",
    "    \n",
    "    def predict(self, X):\n",
    "        preds = np.array([estimator.predict(X) for estimator in self.estimators])\n",
    "        return np.mean(preds, axis=0)"
   ]
  },
  {
   "cell_type": "markdown",
   "metadata": {},
   "source": [
    "### RandomForestClassifier"
   ]
  },
  {
   "cell_type": "code",
   "execution_count": 5,
   "metadata": {},
   "outputs": [
    {
     "name": "stdout",
     "output_type": "stream",
     "text": [
      "0.9733333333333334\n"
     ]
    }
   ],
   "source": [
    "rf = RandomForestClassifier(n_estimators=3, criterion='entropy', \n",
    "                            min_samples_split=5, max_depth=5)\n",
    "rf.fit(X.values, y.values)\n",
    "preds = rf.predict(X.values)\n",
    "print((preds == y).mean())"
   ]
  },
  {
   "cell_type": "code",
   "execution_count": 6,
   "metadata": {},
   "outputs": [
    {
     "name": "stdout",
     "output_type": "stream",
     "text": [
      "0.98\n"
     ]
    }
   ],
   "source": [
    "from sklearn.ensemble import RandomForestClassifier\n",
    "\n",
    "rf = RandomForestClassifier(n_estimators=3, criterion='entropy', min_samples_split=5, max_depth=5)\n",
    "rf.fit(X, y)\n",
    "preds = rf.predict(X)\n",
    "print((preds == y).mean())"
   ]
  },
  {
   "cell_type": "markdown",
   "metadata": {},
   "source": [
    "### RandomForestRegressor"
   ]
  },
  {
   "cell_type": "code",
   "execution_count": 7,
   "metadata": {},
   "outputs": [],
   "source": [
    "filename = \"data/ex1data1.txt\"\n",
    "data = np.loadtxt(filename, delimiter=',', usecols=(0, 1), unpack=True)\n",
    "\n",
    "X = np.transpose(np.array(data[:-1]))\n",
    "y = np.transpose(np.array(data[-1:]))"
   ]
  },
  {
   "cell_type": "code",
   "execution_count": 8,
   "metadata": {},
   "outputs": [
    {
     "name": "stdout",
     "output_type": "stream",
     "text": [
      "MSE:  8.390376269934999\n"
     ]
    }
   ],
   "source": [
    "rfr = RandomForestRegressor(n_estimators=3, criterion='var', min_samples_split=5, max_depth=5)\n",
    "\n",
    "rfr.fit(X, y)\n",
    "preds = rfr.predict(X)\n",
    "print(\"MSE: \", np.mean((preds - y.ravel()) ** 2))"
   ]
  },
  {
   "cell_type": "code",
   "execution_count": 9,
   "metadata": {},
   "outputs": [
    {
     "name": "stdout",
     "output_type": "stream",
     "text": [
      "MSE:  6.924107025589401\n"
     ]
    }
   ],
   "source": [
    "# Sklearn way\n",
    "from sklearn.ensemble import RandomForestRegressor\n",
    "\n",
    "rfr = RandomForestRegressor(n_estimators=3, criterion='mse', min_samples_split=5, max_depth=5)\n",
    "rfr.fit(X, y)\n",
    "preds = rfr.predict(X)\n",
    "\n",
    "print(\"MSE: \", np.mean((preds - y.ravel()) ** 2))"
   ]
  }
 ],
 "metadata": {
  "kernelspec": {
   "display_name": "Python 3",
   "language": "python",
   "name": "python3"
  },
  "language_info": {
   "codemirror_mode": {
    "name": "ipython",
    "version": 3
   },
   "file_extension": ".py",
   "mimetype": "text/x-python",
   "name": "python",
   "nbconvert_exporter": "python",
   "pygments_lexer": "ipython3",
   "version": "3.6.7"
  }
 },
 "nbformat": 4,
 "nbformat_minor": 2
}
